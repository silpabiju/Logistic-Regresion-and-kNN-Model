{
 "cells": [
  {
   "cell_type": "markdown",
   "id": "3bcff4ba",
   "metadata": {},
   "source": [
    " Do the following in the iris dataset\n",
    "1. Read the dataset to python environment\n",
    "2. Do the necessary pre-processing steps\n",
    "3. Find out which classification model gives the best result (try all the \n",
    "classification algorithms discussed in the session)"
   ]
  },
  {
   "cell_type": "code",
   "execution_count": 131,
   "id": "e2209d6c",
   "metadata": {},
   "outputs": [],
   "source": [
    "import pandas as pd\n",
    "import numpy as np\n",
    "import seaborn as sns\n",
    "import matplotlib.pyplot as plt"
   ]
  },
  {
   "cell_type": "code",
   "execution_count": 132,
   "id": "37502e54",
   "metadata": {},
   "outputs": [],
   "source": [
    "# Load the iris dataset from a CSV file\n",
    "iris_data = pd.read_excel(r\"C:\\Users\\ACER\\Downloads\\iris (4).xls\")"
   ]
  },
  {
   "cell_type": "code",
   "execution_count": 133,
   "id": "a9e8be54",
   "metadata": {},
   "outputs": [
    {
     "data": {
      "text/html": [
       "<div>\n",
       "<style scoped>\n",
       "    .dataframe tbody tr th:only-of-type {\n",
       "        vertical-align: middle;\n",
       "    }\n",
       "\n",
       "    .dataframe tbody tr th {\n",
       "        vertical-align: top;\n",
       "    }\n",
       "\n",
       "    .dataframe thead th {\n",
       "        text-align: right;\n",
       "    }\n",
       "</style>\n",
       "<table border=\"1\" class=\"dataframe\">\n",
       "  <thead>\n",
       "    <tr style=\"text-align: right;\">\n",
       "      <th></th>\n",
       "      <th>SL</th>\n",
       "      <th>SW</th>\n",
       "      <th>PL</th>\n",
       "      <th>PW</th>\n",
       "      <th>Classification</th>\n",
       "    </tr>\n",
       "  </thead>\n",
       "  <tbody>\n",
       "    <tr>\n",
       "      <th>0</th>\n",
       "      <td>5.1</td>\n",
       "      <td>3.5</td>\n",
       "      <td>1.4</td>\n",
       "      <td>0.2</td>\n",
       "      <td>Iris-setosa</td>\n",
       "    </tr>\n",
       "    <tr>\n",
       "      <th>1</th>\n",
       "      <td>4.9</td>\n",
       "      <td>3.0</td>\n",
       "      <td>1.4</td>\n",
       "      <td>0.2</td>\n",
       "      <td>Iris-setosa</td>\n",
       "    </tr>\n",
       "    <tr>\n",
       "      <th>2</th>\n",
       "      <td>NaN</td>\n",
       "      <td>3.2</td>\n",
       "      <td>1.3</td>\n",
       "      <td>0.2</td>\n",
       "      <td>Iris-setosa</td>\n",
       "    </tr>\n",
       "    <tr>\n",
       "      <th>3</th>\n",
       "      <td>4.6</td>\n",
       "      <td>3.1</td>\n",
       "      <td>1.5</td>\n",
       "      <td>0.2</td>\n",
       "      <td>Iris-setosa</td>\n",
       "    </tr>\n",
       "    <tr>\n",
       "      <th>4</th>\n",
       "      <td>5.0</td>\n",
       "      <td>3.6</td>\n",
       "      <td>1.4</td>\n",
       "      <td>0.2</td>\n",
       "      <td>Iris-setosa</td>\n",
       "    </tr>\n",
       "  </tbody>\n",
       "</table>\n",
       "</div>"
      ],
      "text/plain": [
       "    SL   SW   PL   PW Classification\n",
       "0  5.1  3.5  1.4  0.2    Iris-setosa\n",
       "1  4.9  3.0  1.4  0.2    Iris-setosa\n",
       "2  NaN  3.2  1.3  0.2    Iris-setosa\n",
       "3  4.6  3.1  1.5  0.2    Iris-setosa\n",
       "4  5.0  3.6  1.4  0.2    Iris-setosa"
      ]
     },
     "execution_count": 133,
     "metadata": {},
     "output_type": "execute_result"
    }
   ],
   "source": [
    "iris_data.head()"
   ]
  },
  {
   "cell_type": "code",
   "execution_count": 134,
   "id": "79a09786",
   "metadata": {},
   "outputs": [
    {
     "name": "stdout",
     "output_type": "stream",
     "text": [
      "Features shape: (150, 4)\n",
      "Target shape: (150,)\n"
     ]
    }
   ],
   "source": [
    "# Access the features (inputs) and target (outputs) of the dataset\n",
    "X = iris_data.iloc[:, :-1]  # Features\n",
    "y = iris_data.iloc[:, -1]  # Target\n",
    "\n",
    "# Print the shape of the features and target dataframes\n",
    "print(\"Features shape:\", X.shape)\n",
    "print(\"Target shape:\", y.shape)"
   ]
  },
  {
   "cell_type": "code",
   "execution_count": 135,
   "id": "731bd812",
   "metadata": {},
   "outputs": [
    {
     "data": {
      "text/plain": [
       "SL                float64\n",
       "SW                float64\n",
       "PL                float64\n",
       "PW                float64\n",
       "Classification     object\n",
       "dtype: object"
      ]
     },
     "execution_count": 135,
     "metadata": {},
     "output_type": "execute_result"
    }
   ],
   "source": [
    "iris_data.dtypes"
   ]
  },
  {
   "cell_type": "code",
   "execution_count": 136,
   "id": "5fca3446",
   "metadata": {},
   "outputs": [
    {
     "data": {
      "text/plain": [
       "SL                7\n",
       "SW                6\n",
       "PL                6\n",
       "PW                0\n",
       "Classification    0\n",
       "dtype: int64"
      ]
     },
     "execution_count": 136,
     "metadata": {},
     "output_type": "execute_result"
    }
   ],
   "source": [
    "iris_data.isnull().sum()  #for finding null values"
   ]
  },
  {
   "cell_type": "code",
   "execution_count": 137,
   "id": "6bb1d2c5",
   "metadata": {},
   "outputs": [
    {
     "data": {
      "text/html": [
       "<div>\n",
       "<style scoped>\n",
       "    .dataframe tbody tr th:only-of-type {\n",
       "        vertical-align: middle;\n",
       "    }\n",
       "\n",
       "    .dataframe tbody tr th {\n",
       "        vertical-align: top;\n",
       "    }\n",
       "\n",
       "    .dataframe thead th {\n",
       "        text-align: right;\n",
       "    }\n",
       "</style>\n",
       "<table border=\"1\" class=\"dataframe\">\n",
       "  <thead>\n",
       "    <tr style=\"text-align: right;\">\n",
       "      <th></th>\n",
       "      <th>SL</th>\n",
       "      <th>SW</th>\n",
       "      <th>PL</th>\n",
       "      <th>PW</th>\n",
       "      <th>Classification</th>\n",
       "    </tr>\n",
       "  </thead>\n",
       "  <tbody>\n",
       "    <tr>\n",
       "      <th>0</th>\n",
       "      <td>5.1</td>\n",
       "      <td>3.5</td>\n",
       "      <td>1.4</td>\n",
       "      <td>0.2</td>\n",
       "      <td>Iris-setosa</td>\n",
       "    </tr>\n",
       "    <tr>\n",
       "      <th>1</th>\n",
       "      <td>4.9</td>\n",
       "      <td>3.0</td>\n",
       "      <td>1.4</td>\n",
       "      <td>0.2</td>\n",
       "      <td>Iris-setosa</td>\n",
       "    </tr>\n",
       "    <tr>\n",
       "      <th>3</th>\n",
       "      <td>4.6</td>\n",
       "      <td>3.1</td>\n",
       "      <td>1.5</td>\n",
       "      <td>0.2</td>\n",
       "      <td>Iris-setosa</td>\n",
       "    </tr>\n",
       "    <tr>\n",
       "      <th>4</th>\n",
       "      <td>5.0</td>\n",
       "      <td>3.6</td>\n",
       "      <td>1.4</td>\n",
       "      <td>0.2</td>\n",
       "      <td>Iris-setosa</td>\n",
       "    </tr>\n",
       "    <tr>\n",
       "      <th>5</th>\n",
       "      <td>5.4</td>\n",
       "      <td>3.9</td>\n",
       "      <td>1.7</td>\n",
       "      <td>0.4</td>\n",
       "      <td>Iris-setosa</td>\n",
       "    </tr>\n",
       "  </tbody>\n",
       "</table>\n",
       "</div>"
      ],
      "text/plain": [
       "    SL   SW   PL   PW Classification\n",
       "0  5.1  3.5  1.4  0.2    Iris-setosa\n",
       "1  4.9  3.0  1.4  0.2    Iris-setosa\n",
       "3  4.6  3.1  1.5  0.2    Iris-setosa\n",
       "4  5.0  3.6  1.4  0.2    Iris-setosa\n",
       "5  5.4  3.9  1.7  0.4    Iris-setosa"
      ]
     },
     "execution_count": 137,
     "metadata": {},
     "output_type": "execute_result"
    }
   ],
   "source": [
    "iris_data=iris_data.dropna()\n",
    "iris_data.head(5)"
   ]
  },
  {
   "cell_type": "code",
   "execution_count": 138,
   "id": "96fb00f4",
   "metadata": {},
   "outputs": [],
   "source": [
    "num_col = ['SL','SW','PL','PW']  #for finding outliers"
   ]
  },
  {
   "cell_type": "code",
   "execution_count": 139,
   "id": "a0126788",
   "metadata": {},
   "outputs": [
    {
     "data": {
      "image/png": "[encoded data removed]",
      "text/plain": [
       "<Figure size 640x480 with 1 Axes>"
      ]
     },
     "metadata": {},
     "output_type": "display_data"
    },
    {
     "data": {
      "image/png": "[encoded data removed]",
      "text/plain": [
       "<Figure size 640x480 with 1 Axes>"
      ]
     },
     "metadata": {},
     "output_type": "display_data"
    },
    {
     "data": {
      "image/png": "[encoded data removed]",
      "text/plain": [
       "<Figure size 640x480 with 1 Axes>"
      ]
     },
     "metadata": {},
     "output_type": "display_data"
    },
    {
     "data": {
      "image/png": "[encoded data removed]",
      "text/plain": [
       "<Figure size 640x480 with 1 Axes>"
      ]
     },
     "metadata": {},
     "output_type": "display_data"
    }
   ],
   "source": [
    "for i in num_col:\n",
    "    plt.boxplot(iris_data[i])\n",
    "    plt.title(i)\n",
    "    plt.show()"
   ]
  },
  {
   "cell_type": "code",
   "execution_count": 140,
   "id": "5eaca5ca",
   "metadata": {},
   "outputs": [
    {
     "name": "stdout",
     "output_type": "stream",
     "text": [
      "Original dataset shape: (131, 5)\n",
      "Dataset shape after removing outliers: (124, 5)\n"
     ]
    }
   ],
   "source": [
    "# Select the \"sepal width (SW)\" column\n",
    "sepal_width = iris_data['SW']\n",
    "\n",
    "# Calculate the IQR (Interquartile Range)\n",
    "Q1 = sepal_width.quantile(0.25)\n",
    "Q3 = sepal_width.quantile(0.75)\n",
    "IQR = Q3 - Q1\n",
    "\n",
    "# Define the upper and lower bounds for outlier detection\n",
    "lower_bound = Q1 - 1.5 * IQR\n",
    "upper_bound = Q3 + 1.5 * IQR\n",
    "\n",
    "# Remove outliers from the dataset\n",
    "iris_data_no_outliers = iris_data[(sepal_width >= lower_bound) & (sepal_width <= upper_bound)]\n",
    "\n",
    "# Print the shape of the dataset before and after removing outliers\n",
    "print(\"Original dataset shape:\", iris_data.shape)\n",
    "print(\"Dataset shape after removing outliers:\", iris_data_no_outliers.shape)"
   ]
  },
  {
   "cell_type": "markdown",
   "id": "a0c659e9",
   "metadata": {},
   "source": [
    "Encoding "
   ]
  },
  {
   "cell_type": "code",
   "execution_count": 141,
   "id": "d427682c",
   "metadata": {},
   "outputs": [],
   "source": [
    "from sklearn.preprocessing import LabelEncoder\n",
    "le = LabelEncoder()\n",
    "iris_data['Classification'] = le.fit_transform(iris_data['Classification'])"
   ]
  },
  {
   "cell_type": "code",
   "execution_count": 142,
   "id": "643e057a",
   "metadata": {},
   "outputs": [
    {
     "data": {
      "text/html": [
       "<div>\n",
       "<style scoped>\n",
       "    .dataframe tbody tr th:only-of-type {\n",
       "        vertical-align: middle;\n",
       "    }\n",
       "\n",
       "    .dataframe tbody tr th {\n",
       "        vertical-align: top;\n",
       "    }\n",
       "\n",
       "    .dataframe thead th {\n",
       "        text-align: right;\n",
       "    }\n",
       "</style>\n",
       "<table border=\"1\" class=\"dataframe\">\n",
       "  <thead>\n",
       "    <tr style=\"text-align: right;\">\n",
       "      <th></th>\n",
       "      <th>SL</th>\n",
       "      <th>SW</th>\n",
       "      <th>PL</th>\n",
       "      <th>PW</th>\n",
       "      <th>Classification</th>\n",
       "    </tr>\n",
       "  </thead>\n",
       "  <tbody>\n",
       "    <tr>\n",
       "      <th>0</th>\n",
       "      <td>5.1</td>\n",
       "      <td>3.5</td>\n",
       "      <td>1.4</td>\n",
       "      <td>0.2</td>\n",
       "      <td>0</td>\n",
       "    </tr>\n",
       "    <tr>\n",
       "      <th>1</th>\n",
       "      <td>4.9</td>\n",
       "      <td>3.0</td>\n",
       "      <td>1.4</td>\n",
       "      <td>0.2</td>\n",
       "      <td>0</td>\n",
       "    </tr>\n",
       "    <tr>\n",
       "      <th>3</th>\n",
       "      <td>4.6</td>\n",
       "      <td>3.1</td>\n",
       "      <td>1.5</td>\n",
       "      <td>0.2</td>\n",
       "      <td>0</td>\n",
       "    </tr>\n",
       "    <tr>\n",
       "      <th>4</th>\n",
       "      <td>5.0</td>\n",
       "      <td>3.6</td>\n",
       "      <td>1.4</td>\n",
       "      <td>0.2</td>\n",
       "      <td>0</td>\n",
       "    </tr>\n",
       "    <tr>\n",
       "      <th>5</th>\n",
       "      <td>5.4</td>\n",
       "      <td>3.9</td>\n",
       "      <td>1.7</td>\n",
       "      <td>0.4</td>\n",
       "      <td>0</td>\n",
       "    </tr>\n",
       "  </tbody>\n",
       "</table>\n",
       "</div>"
      ],
      "text/plain": [
       "    SL   SW   PL   PW  Classification\n",
       "0  5.1  3.5  1.4  0.2               0\n",
       "1  4.9  3.0  1.4  0.2               0\n",
       "3  4.6  3.1  1.5  0.2               0\n",
       "4  5.0  3.6  1.4  0.2               0\n",
       "5  5.4  3.9  1.7  0.4               0"
      ]
     },
     "execution_count": 142,
     "metadata": {},
     "output_type": "execute_result"
    }
   ],
   "source": [
    "iris_data.head()"
   ]
  },
  {
   "cell_type": "code",
   "execution_count": 143,
   "id": "2b8b83da",
   "metadata": {},
   "outputs": [
    {
     "data": {
      "text/plain": [
       "array([0, 1, 2])"
      ]
     },
     "execution_count": 143,
     "metadata": {},
     "output_type": "execute_result"
    }
   ],
   "source": [
    "iris_data['Classification'].unique()"
   ]
  },
  {
   "cell_type": "code",
   "execution_count": 144,
   "id": "87f31b68",
   "metadata": {},
   "outputs": [
    {
     "data": {
      "text/plain": [
       "2    45\n",
       "1    44\n",
       "0    42\n",
       "Name: Classification, dtype: int64"
      ]
     },
     "execution_count": 144,
     "metadata": {},
     "output_type": "execute_result"
    }
   ],
   "source": [
    "iris_data['Classification'].value_counts()"
   ]
  },
  {
   "cell_type": "code",
   "execution_count": 145,
   "id": "873e339c",
   "metadata": {},
   "outputs": [
    {
     "data": {
      "text/plain": [
       "2    0.343511\n",
       "1    0.335878\n",
       "0    0.320611\n",
       "Name: Classification, dtype: float64"
      ]
     },
     "execution_count": 145,
     "metadata": {},
     "output_type": "execute_result"
    }
   ],
   "source": [
    "iris_data['Classification'].value_counts(normalize=True)"
   ]
  },
  {
   "cell_type": "code",
   "execution_count": 146,
   "id": "3a9f6710",
   "metadata": {},
   "outputs": [],
   "source": [
    "iris_data = pd.get_dummies(iris_data)"
   ]
  },
  {
   "cell_type": "code",
   "execution_count": 147,
   "id": "72a9a831",
   "metadata": {},
   "outputs": [
    {
     "data": {
      "text/html": [
       "<div>\n",
       "<style scoped>\n",
       "    .dataframe tbody tr th:only-of-type {\n",
       "        vertical-align: middle;\n",
       "    }\n",
       "\n",
       "    .dataframe tbody tr th {\n",
       "        vertical-align: top;\n",
       "    }\n",
       "\n",
       "    .dataframe thead th {\n",
       "        text-align: right;\n",
       "    }\n",
       "</style>\n",
       "<table border=\"1\" class=\"dataframe\">\n",
       "  <thead>\n",
       "    <tr style=\"text-align: right;\">\n",
       "      <th></th>\n",
       "      <th>SL</th>\n",
       "      <th>SW</th>\n",
       "      <th>PL</th>\n",
       "      <th>PW</th>\n",
       "      <th>Classification</th>\n",
       "    </tr>\n",
       "  </thead>\n",
       "  <tbody>\n",
       "    <tr>\n",
       "      <th>0</th>\n",
       "      <td>5.1</td>\n",
       "      <td>3.5</td>\n",
       "      <td>1.4</td>\n",
       "      <td>0.2</td>\n",
       "      <td>0</td>\n",
       "    </tr>\n",
       "    <tr>\n",
       "      <th>1</th>\n",
       "      <td>4.9</td>\n",
       "      <td>3.0</td>\n",
       "      <td>1.4</td>\n",
       "      <td>0.2</td>\n",
       "      <td>0</td>\n",
       "    </tr>\n",
       "    <tr>\n",
       "      <th>3</th>\n",
       "      <td>4.6</td>\n",
       "      <td>3.1</td>\n",
       "      <td>1.5</td>\n",
       "      <td>0.2</td>\n",
       "      <td>0</td>\n",
       "    </tr>\n",
       "    <tr>\n",
       "      <th>4</th>\n",
       "      <td>5.0</td>\n",
       "      <td>3.6</td>\n",
       "      <td>1.4</td>\n",
       "      <td>0.2</td>\n",
       "      <td>0</td>\n",
       "    </tr>\n",
       "    <tr>\n",
       "      <th>5</th>\n",
       "      <td>5.4</td>\n",
       "      <td>3.9</td>\n",
       "      <td>1.7</td>\n",
       "      <td>0.4</td>\n",
       "      <td>0</td>\n",
       "    </tr>\n",
       "  </tbody>\n",
       "</table>\n",
       "</div>"
      ],
      "text/plain": [
       "    SL   SW   PL   PW  Classification\n",
       "0  5.1  3.5  1.4  0.2               0\n",
       "1  4.9  3.0  1.4  0.2               0\n",
       "3  4.6  3.1  1.5  0.2               0\n",
       "4  5.0  3.6  1.4  0.2               0\n",
       "5  5.4  3.9  1.7  0.4               0"
      ]
     },
     "execution_count": 147,
     "metadata": {},
     "output_type": "execute_result"
    }
   ],
   "source": [
    "iris_data.head()"
   ]
  },
  {
   "cell_type": "code",
   "execution_count": 148,
   "id": "4cb57280",
   "metadata": {},
   "outputs": [],
   "source": [
    "#splitting data to feature and target\n",
    "X = iris_data.drop('Classification',axis=1)\n",
    "y = iris_data['Classification']"
   ]
  },
  {
   "cell_type": "code",
   "execution_count": 149,
   "id": "b3a350ef",
   "metadata": {},
   "outputs": [],
   "source": [
    "from sklearn.model_selection import train_test_split\n",
    "X_train,X_test,y_train,y_test = train_test_split(X,y,test_size=.25,random_state=42)"
   ]
  },
  {
   "cell_type": "markdown",
   "id": "f80e8153",
   "metadata": {},
   "source": [
    "Logistic Regression"
   ]
  },
  {
   "cell_type": "code",
   "execution_count": 150,
   "id": "aadea8b2",
   "metadata": {},
   "outputs": [],
   "source": [
    "#Logistic Regression\n",
    "from sklearn.linear_model import LogisticRegression\n",
    "logit_model = LogisticRegression()\n",
    "logit_model.fit(X_train,y_train)\n",
    "y_pred_lr = logit_model.predict(X_test)"
   ]
  },
  {
   "cell_type": "code",
   "execution_count": 151,
   "id": "b642dd72",
   "metadata": {},
   "outputs": [
    {
     "name": "stdout",
     "output_type": "stream",
     "text": [
      "Accuracy = 1.0\n",
      "precision = 1.0\n",
      "Recall = 1.0\n",
      "f1 score = 1.0\n"
     ]
    }
   ],
   "source": [
    "from sklearn.metrics import confusion_matrix,accuracy_score,precision_score,recall_score,f1_score\n",
    "print('Accuracy =',accuracy_score(y_test,y_pred_lr))\n",
    "print('precision =',precision_score(y_test,y_pred_lr,average='macro'))\n",
    "print('Recall =',recall_score(y_test,y_pred_lr,average='macro'))\n",
    "print('f1 score =',f1_score(y_test,y_pred_lr,average='macro'))"
   ]
  },
  {
   "cell_type": "code",
   "execution_count": 152,
   "id": "2aef934c",
   "metadata": {},
   "outputs": [
    {
     "data": {
      "text/plain": [
       "array([[12,  0,  0],\n",
       "       [ 0, 13,  0],\n",
       "       [ 0,  0,  8]], dtype=int64)"
      ]
     },
     "execution_count": 152,
     "metadata": {},
     "output_type": "execute_result"
    }
   ],
   "source": [
    "confusion_matrix(y_test,y_pred_lr)"
   ]
  },
  {
   "cell_type": "code",
   "execution_count": 153,
   "id": "3958cb04",
   "metadata": {},
   "outputs": [
    {
     "data": {
      "text/plain": [
       "array([1, 0, 0, 0, 2, 1, 1, 2, 1, 0, 2, 0, 1, 0, 2, 2, 0, 1, 2, 1, 0, 0,\n",
       "       2, 0, 2, 1, 1, 1, 1, 0, 0, 1, 1])"
      ]
     },
     "execution_count": 153,
     "metadata": {},
     "output_type": "execute_result"
    }
   ],
   "source": [
    "y_pred_lr"
   ]
  },
  {
   "cell_type": "code",
   "execution_count": 154,
   "id": "b811fbf9",
   "metadata": {},
   "outputs": [
    {
     "data": {
      "text/plain": [
       "65     1\n",
       "48     0\n",
       "22     0\n",
       "36     0\n",
       "132    2\n",
       "66     1\n",
       "80     1\n",
       "121    2\n",
       "93     1\n",
       "31     0\n",
       "111    2\n",
       "32     0\n",
       "75     1\n",
       "5      0\n",
       "113    2\n",
       "116    2\n",
       "44     0\n",
       "92     1\n",
       "108    2\n",
       "97     1\n",
       "20     0\n",
       "12     0\n",
       "139    2\n",
       "13     0\n",
       "145    2\n",
       "54     1\n",
       "81     1\n",
       "90     1\n",
       "57     1\n",
       "0      0\n",
       "14     0\n",
       "50     1\n",
       "61     1\n",
       "Name: Classification, dtype: int32"
      ]
     },
     "execution_count": 154,
     "metadata": {},
     "output_type": "execute_result"
    }
   ],
   "source": [
    "y_test"
   ]
  },
  {
   "cell_type": "markdown",
   "id": "33eca8ba",
   "metadata": {},
   "source": [
    "Scaling"
   ]
  },
  {
   "cell_type": "code",
   "execution_count": 155,
   "id": "59f5f21e",
   "metadata": {},
   "outputs": [],
   "source": [
    "from sklearn.preprocessing import MinMaxScaler"
   ]
  },
  {
   "cell_type": "code",
   "execution_count": 156,
   "id": "95136f39",
   "metadata": {},
   "outputs": [],
   "source": [
    "minmax = MinMaxScaler()"
   ]
  },
  {
   "cell_type": "code",
   "execution_count": 157,
   "id": "8082b623",
   "metadata": {},
   "outputs": [
    {
     "data": {
      "text/plain": [
       "pandas.core.frame.DataFrame"
      ]
     },
     "execution_count": 157,
     "metadata": {},
     "output_type": "execute_result"
    }
   ],
   "source": [
    "type(X)"
   ]
  },
  {
   "cell_type": "code",
   "execution_count": 158,
   "id": "dff72b00",
   "metadata": {},
   "outputs": [],
   "source": [
    "x = pd.DataFrame(X)"
   ]
  },
  {
   "cell_type": "code",
   "execution_count": 159,
   "id": "fb2de3f3",
   "metadata": {},
   "outputs": [],
   "source": [
    "from sklearn.model_selection import train_test_split\n",
    "X_train,X_test,y_train,y_test = train_test_split(X,y,test_size=.25,random_state=42)"
   ]
  },
  {
   "cell_type": "code",
   "execution_count": 160,
   "id": "590953a1",
   "metadata": {},
   "outputs": [],
   "source": [
    "#Logistic Regression\n",
    "from sklearn.linear_model import LogisticRegression\n",
    "logit_model = LogisticRegression()\n",
    "logit_model.fit(X_train,y_train)\n",
    "y_pred_lr = logit_model.predict(X_test)"
   ]
  },
  {
   "cell_type": "code",
   "execution_count": 161,
   "id": "c05d7761",
   "metadata": {},
   "outputs": [
    {
     "name": "stdout",
     "output_type": "stream",
     "text": [
      "Accuracy = 1.0\n",
      "precision = 1.0\n",
      "Recall = 1.0\n",
      "f1 score = 1.0\n"
     ]
    }
   ],
   "source": [
    "from sklearn.metrics import confusion_matrix,accuracy_score,precision_score,recall_score,f1_score\n",
    "print('Accuracy =',accuracy_score(y_test,y_pred_lr))\n",
    "print('precision =',precision_score(y_test,y_pred_lr,average='macro'))\n",
    "print('Recall =',recall_score(y_test,y_pred_lr,average='macro'))\n",
    "print('f1 score =',f1_score(y_test,y_pred_lr,average='macro'))"
   ]
  },
  {
   "cell_type": "markdown",
   "id": "c699e7ed",
   "metadata": {},
   "source": [
    " k-Nearest Neighbor"
   ]
  },
  {
   "cell_type": "code",
   "execution_count": 162,
   "id": "6ec5afcb",
   "metadata": {
    "scrolled": false
   },
   "outputs": [],
   "source": [
    "from sklearn.neighbors import KNeighborsClassifier\n",
    "metric = []\n",
    "neighbors = np.arange(3,15)\n",
    "\n",
    "for k in neighbors:\n",
    "    classifier = KNeighborsClassifier(n_neighbors = k, metric = 'minkowski',p=2)\n",
    "    classifier.fit(X_train,y_train)\n",
    "    y_pred_knn = classifier.predict(X_test)\n",
    "    acc = accuracy_score(y_test,y_pred_knn)\n",
    "    metric.append(acc)\n",
    "    "
   ]
  },
  {
   "cell_type": "code",
   "execution_count": 163,
   "id": "5aee7b00",
   "metadata": {
    "scrolled": false
   },
   "outputs": [
    {
     "data": {
      "image/png": "[encoded data removed]",
      "text/plain": [
       "<Figure size 640x480 with 1 Axes>"
      ]
     },
     "metadata": {},
     "output_type": "display_data"
    }
   ],
   "source": [
    "plt.plot(neighbors,metric,'o-')\n",
    "plt.xlabel('k value')\n",
    "plt.ylabel('accuracy')\n",
    "plt.grid()"
   ]
  },
  {
   "cell_type": "code",
   "execution_count": 164,
   "id": "155aeff8",
   "metadata": {},
   "outputs": [],
   "source": [
    "classifier = KNeighborsClassifier(n_neighbors = 5, metric = 'minkowski',p=2)\n",
    "classifier.fit(X_train,y_train)\n",
    "y_pred_knn = classifier.predict(X_test)"
   ]
  },
  {
   "cell_type": "code",
   "execution_count": 165,
   "id": "eb6ca4b9",
   "metadata": {},
   "outputs": [
    {
     "name": "stdout",
     "output_type": "stream",
     "text": [
      "Accuracy = 1.0\n",
      "precision = 1.0\n",
      "Recall = 1.0\n",
      "f1 score = 1.0\n"
     ]
    }
   ],
   "source": [
    "from sklearn.metrics import confusion_matrix,accuracy_score,precision_score,recall_score,f1_score\n",
    "print('Accuracy =',accuracy_score(y_test,y_pred_knn))\n",
    "print('precision =',precision_score(y_test,y_pred_knn,average='macro'))\n",
    "print('Recall =',recall_score(y_test,y_pred_knn,average='macro'))\n",
    "print('f1 score =',f1_score(y_test,y_pred_knn,average='macro'))"
   ]
  },
  {
   "cell_type": "code",
   "execution_count": 166,
   "id": "65923b36",
   "metadata": {},
   "outputs": [
    {
     "data": {
      "text/plain": [
       "array([[12,  0,  0],\n",
       "       [ 0, 13,  0],\n",
       "       [ 0,  0,  8]], dtype=int64)"
      ]
     },
     "execution_count": 166,
     "metadata": {},
     "output_type": "execute_result"
    }
   ],
   "source": [
    "confusion_matrix(y_test,y_pred_knn)"
   ]
  },
  {
   "cell_type": "markdown",
   "id": "84edec98",
   "metadata": {},
   "source": [
    "Scaling"
   ]
  },
  {
   "cell_type": "code",
   "execution_count": 167,
   "id": "2c4c1477",
   "metadata": {},
   "outputs": [],
   "source": [
    "from sklearn.preprocessing import MinMaxScaler"
   ]
  },
  {
   "cell_type": "code",
   "execution_count": 168,
   "id": "af1b3d1e",
   "metadata": {},
   "outputs": [],
   "source": [
    "minmax = MinMaxScaler()"
   ]
  },
  {
   "cell_type": "code",
   "execution_count": 169,
   "id": "44455c4d",
   "metadata": {},
   "outputs": [
    {
     "data": {
      "text/plain": [
       "pandas.core.frame.DataFrame"
      ]
     },
     "execution_count": 169,
     "metadata": {},
     "output_type": "execute_result"
    }
   ],
   "source": [
    "type(X)"
   ]
  },
  {
   "cell_type": "code",
   "execution_count": 170,
   "id": "6937b6e0",
   "metadata": {},
   "outputs": [],
   "source": [
    "x = pd.DataFrame(X)"
   ]
  },
  {
   "cell_type": "code",
   "execution_count": 171,
   "id": "dc76059c",
   "metadata": {},
   "outputs": [],
   "source": [
    "from sklearn.neighbors import KNeighborsClassifier\n",
    "metric = []\n",
    "neighbors = np.arange(3,15)\n",
    "\n",
    "for k in neighbors:\n",
    "    classifier = KNeighborsClassifier(n_neighbors = k, metric = 'minkowski',p=2)\n",
    "    classifier.fit(X_train,y_train)\n",
    "    y_pred_knn = classifier.predict(X_test)\n",
    "    acc = accuracy_score(y_test,y_pred_knn)\n",
    "    metric.append(acc)\n",
    "    "
   ]
  },
  {
   "cell_type": "code",
   "execution_count": 172,
   "id": "3462f0b1",
   "metadata": {},
   "outputs": [
    {
     "data": {
      "image/png": "[encoded data removed]",
      "text/plain": [
       "<Figure size 640x480 with 1 Axes>"
      ]
     },
     "metadata": {},
     "output_type": "display_data"
    }
   ],
   "source": [
    "plt.plot(neighbors,metric,'o-')\n",
    "plt.xlabel('k value')\n",
    "plt.ylabel('accuracy')\n",
    "plt.grid()"
   ]
  },
  {
   "cell_type": "code",
   "execution_count": 173,
   "id": "f3674da9",
   "metadata": {},
   "outputs": [],
   "source": [
    "classifier = KNeighborsClassifier(n_neighbors = 5, metric = 'minkowski',p=2)\n",
    "classifier.fit(X_train,y_train)\n",
    "y_pred_knn = classifier.predict(X_test)"
   ]
  },
  {
   "cell_type": "code",
   "execution_count": 174,
   "id": "34da4ee8",
   "metadata": {},
   "outputs": [
    {
     "name": "stdout",
     "output_type": "stream",
     "text": [
      "Accuracy = 1.0\n",
      "precision = 1.0\n",
      "Recall = 1.0\n",
      "f1 score = 1.0\n"
     ]
    }
   ],
   "source": [
    "from sklearn.metrics import confusion_matrix,accuracy_score,precision_score,recall_score,f1_score\n",
    "print('Accuracy =',accuracy_score(y_test,y_pred_knn))\n",
    "print('precision =',precision_score(y_test,y_pred_knn,average='macro'))\n",
    "print('Recall =',recall_score(y_test,y_pred_knn,average='macro'))\n",
    "print('f1 score =',f1_score(y_test,y_pred_knn,average='macro'))"
   ]
  },
  {
   "cell_type": "code",
   "execution_count": 175,
   "id": "a1c99af6",
   "metadata": {},
   "outputs": [
    {
     "data": {
      "text/plain": [
       "array([[12,  0,  0],\n",
       "       [ 0, 13,  0],\n",
       "       [ 0,  0,  8]], dtype=int64)"
      ]
     },
     "execution_count": 175,
     "metadata": {},
     "output_type": "execute_result"
    }
   ],
   "source": [
    "confusion_matrix(y_test,y_pred_knn)"
   ]
  },
  {
   "cell_type": "markdown",
   "id": "7d25d913",
   "metadata": {},
   "source": [
    "HERE BOTH MODEL IS BETTER FOR ME "
   ]
  }
 ],
 "metadata": {
  "kernelspec": {
   "display_name": "Python 3 (ipykernel)",
   "language": "python",
   "name": "python3"
  },
  "language_info": {
   "codemirror_mode": {
    "name": "ipython",
    "version": 3
   },
   "file_extension": ".py",
   "mimetype": "text/x-python",
   "name": "python",
   "nbconvert_exporter": "python",
   "pygments_lexer": "ipython3",
   "version": "3.10.9"
  }
 },
 "nbformat": 4,
 "nbformat_minor": 5
}
